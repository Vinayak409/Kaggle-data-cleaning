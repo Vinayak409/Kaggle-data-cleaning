{
 "cells": [
  {
   "cell_type": "markdown",
   "id": "af321e06",
   "metadata": {
    "papermill": {
     "duration": 0.01792,
     "end_time": "2021-12-13T21:52:30.687051",
     "exception": false,
     "start_time": "2021-12-13T21:52:30.669131",
     "status": "completed"
    },
    "tags": []
   },
   "source": [
    "### **This notebook is an exercise in the [Data Cleaning](https://www.kaggle.com/learn/data-cleaning) course.  You can reference the tutorial at [this link](https://www.kaggle.com/alexisbcook/inconsistent-data-entry).**\n",
    "\n",
    "---\n"
   ]
  },
  {
   "cell_type": "markdown",
   "id": "bd1f3aff",
   "metadata": {
    "papermill": {
     "duration": 0.016628,
     "end_time": "2021-12-13T21:52:30.721047",
     "exception": false,
     "start_time": "2021-12-13T21:52:30.704419",
     "status": "completed"
    },
    "tags": []
   },
   "source": [
    "In this exercise, you'll apply what you learned in the **Inconsistent data entry** tutorial.\n",
    "\n",
    "# Setup\n",
    "\n",
    "The questions below will give you feedback on your work. Run the following cell to set up the feedback system."
   ]
  },
  {
   "cell_type": "code",
   "execution_count": 1,
   "id": "fc2b409e",
   "metadata": {
    "execution": {
     "iopub.execute_input": "2021-12-13T21:52:30.766365Z",
     "iopub.status.busy": "2021-12-13T21:52:30.765435Z",
     "iopub.status.idle": "2021-12-13T21:52:30.876970Z",
     "shell.execute_reply": "2021-12-13T21:52:30.877528Z",
     "shell.execute_reply.started": "2021-12-13T21:49:23.132662Z"
    },
    "papermill": {
     "duration": 0.139669,
     "end_time": "2021-12-13T21:52:30.877927",
     "exception": false,
     "start_time": "2021-12-13T21:52:30.738258",
     "status": "completed"
    },
    "tags": []
   },
   "outputs": [
    {
     "name": "stdout",
     "output_type": "stream",
     "text": [
      "Setup Complete\n"
     ]
    }
   ],
   "source": [
    "from learntools.core import binder\n",
    "binder.bind(globals())\n",
    "from learntools.data_cleaning.ex5 import *\n",
    "print(\"Setup Complete\")"
   ]
  },
  {
   "cell_type": "markdown",
   "id": "81359b2e",
   "metadata": {
    "papermill": {
     "duration": 0.0172,
     "end_time": "2021-12-13T21:52:30.912427",
     "exception": false,
     "start_time": "2021-12-13T21:52:30.895227",
     "status": "completed"
    },
    "tags": []
   },
   "source": [
    "# Get our environment set up\n",
    "\n",
    "The first thing we'll need to do is load in the libraries and dataset we'll be using.  We use the same dataset from the tutorial."
   ]
  },
  {
   "cell_type": "code",
   "execution_count": 2,
   "id": "d7a3f994",
   "metadata": {
    "execution": {
     "iopub.execute_input": "2021-12-13T21:52:30.954053Z",
     "iopub.status.busy": "2021-12-13T21:52:30.953343Z",
     "iopub.status.idle": "2021-12-13T21:52:30.967629Z",
     "shell.execute_reply": "2021-12-13T21:52:30.966942Z",
     "shell.execute_reply.started": "2021-12-13T21:49:20.055917Z"
    },
    "papermill": {
     "duration": 0.037713,
     "end_time": "2021-12-13T21:52:30.967826",
     "exception": false,
     "start_time": "2021-12-13T21:52:30.930113",
     "status": "completed"
    },
    "tags": []
   },
   "outputs": [],
   "source": [
    "# modules we'll use\n",
    "import pandas as pd\n",
    "import numpy as np\n",
    "\n",
    "# helpful modules\n",
    "import fuzzywuzzy\n",
    "from fuzzywuzzy import process\n",
    "import chardet\n",
    "\n",
    "# read in all our data\n",
    "professors = pd.read_csv(\"../input/pakistan-intellectual-capital/pakistan_intellectual_capital.csv\")\n",
    "\n",
    "# set seed for reproducibility\n",
    "np.random.seed(0)"
   ]
  },
  {
   "cell_type": "markdown",
   "id": "299d6b6b",
   "metadata": {
    "papermill": {
     "duration": 0.016612,
     "end_time": "2021-12-13T21:52:31.002442",
     "exception": false,
     "start_time": "2021-12-13T21:52:30.985830",
     "status": "completed"
    },
    "tags": []
   },
   "source": [
    "Next, we'll redo all of the work that we did in the tutorial."
   ]
  },
  {
   "cell_type": "code",
   "execution_count": 3,
   "id": "ee874c76",
   "metadata": {
    "execution": {
     "iopub.execute_input": "2021-12-13T21:52:31.045112Z",
     "iopub.status.busy": "2021-12-13T21:52:31.044357Z",
     "iopub.status.idle": "2021-12-13T21:52:31.056308Z",
     "shell.execute_reply": "2021-12-13T21:52:31.055641Z",
     "shell.execute_reply.started": "2021-12-13T21:50:08.264360Z"
    },
    "papermill": {
     "duration": 0.037354,
     "end_time": "2021-12-13T21:52:31.056468",
     "exception": false,
     "start_time": "2021-12-13T21:52:31.019114",
     "status": "completed"
    },
    "tags": []
   },
   "outputs": [
    {
     "name": "stdout",
     "output_type": "stream",
     "text": [
      "All done!\n"
     ]
    }
   ],
   "source": [
    "# convert to lower case\n",
    "professors['Country'] = professors['Country'].str.lower()\n",
    "# remove trailing white spaces\n",
    "professors['Country'] = professors['Country'].str.strip()\n",
    "\n",
    "# get the top 10 closest matches to \"south korea\"\n",
    "countries = professors['Country'].unique()\n",
    "matches = fuzzywuzzy.process.extract(\"south korea\", countries, limit=10, scorer=fuzzywuzzy.fuzz.token_sort_ratio)\n",
    "\n",
    "def replace_matches_in_column(df, column, string_to_match, min_ratio = 47):\n",
    "    # get a list of unique strings\n",
    "    strings = df[column].unique()\n",
    "    \n",
    "    # get the top 10 closest matches to our input string\n",
    "    matches = fuzzywuzzy.process.extract(string_to_match, strings, \n",
    "                                         limit=10, scorer=fuzzywuzzy.fuzz.token_sort_ratio)\n",
    "\n",
    "    # only get matches with a ratio > 90\n",
    "    close_matches = [matches[0] for matches in matches if matches[1] >= min_ratio]\n",
    "\n",
    "    # get the rows of all the close matches in our dataframe\n",
    "    rows_with_matches = df[column].isin(close_matches)\n",
    "\n",
    "    # replace all rows with close matches with the input matches \n",
    "    df.loc[rows_with_matches, column] = string_to_match\n",
    "    \n",
    "    # let us know the function's done\n",
    "    print(\"All done!\")\n",
    "    \n",
    "replace_matches_in_column(df=professors, column='Country', string_to_match=\"south korea\")\n",
    "countries = professors['Country'].unique()"
   ]
  },
  {
   "cell_type": "markdown",
   "id": "b65fd5cc",
   "metadata": {
    "papermill": {
     "duration": 0.016575,
     "end_time": "2021-12-13T21:52:31.090256",
     "exception": false,
     "start_time": "2021-12-13T21:52:31.073681",
     "status": "completed"
    },
    "tags": []
   },
   "source": [
    "# 1) Examine another column\n",
    "\n",
    "Write code below to take a look at all the unique values in the \"Graduated from\" column."
   ]
  },
  {
   "cell_type": "code",
   "execution_count": 4,
   "id": "49567e4a",
   "metadata": {
    "execution": {
     "iopub.execute_input": "2021-12-13T21:52:31.128518Z",
     "iopub.status.busy": "2021-12-13T21:52:31.127855Z",
     "iopub.status.idle": "2021-12-13T21:52:31.131462Z",
     "shell.execute_reply": "2021-12-13T21:52:31.131993Z",
     "shell.execute_reply.started": "2021-12-13T21:50:13.576457Z"
    },
    "papermill": {
     "duration": 0.024953,
     "end_time": "2021-12-13T21:52:31.132205",
     "exception": false,
     "start_time": "2021-12-13T21:52:31.107252",
     "status": "completed"
    },
    "tags": []
   },
   "outputs": [],
   "source": [
    "# TODO: Your code here\n",
    "unis = professors['Graduated from'].unique()\n"
   ]
  },
  {
   "cell_type": "markdown",
   "id": "8f6a610b",
   "metadata": {
    "papermill": {
     "duration": 0.016643,
     "end_time": "2021-12-13T21:52:31.166738",
     "exception": false,
     "start_time": "2021-12-13T21:52:31.150095",
     "status": "completed"
    },
    "tags": []
   },
   "source": [
    "Do you notice any inconsistencies in the data?  Can any of the inconsistencies in the data be fixed by removing white spaces at the beginning and end of cells?\n",
    "\n",
    "Once you have answered these questions, run the code cell below to get credit for your work."
   ]
  },
  {
   "cell_type": "code",
   "execution_count": 5,
   "id": "a187650f",
   "metadata": {
    "execution": {
     "iopub.execute_input": "2021-12-13T21:52:31.203997Z",
     "iopub.status.busy": "2021-12-13T21:52:31.203300Z",
     "iopub.status.idle": "2021-12-13T21:52:31.211833Z",
     "shell.execute_reply": "2021-12-13T21:52:31.212324Z",
     "shell.execute_reply.started": "2021-12-13T21:50:18.516504Z"
    },
    "papermill": {
     "duration": 0.028995,
     "end_time": "2021-12-13T21:52:31.212515",
     "exception": false,
     "start_time": "2021-12-13T21:52:31.183520",
     "status": "completed"
    },
    "tags": []
   },
   "outputs": [
    {
     "data": {
      "application/javascript": [
       "parent.postMessage({\"jupyterEvent\": \"custom.exercise_interaction\", \"data\": {\"outcomeType\": 1, \"valueTowardsCompletion\": 0.3333333333333333, \"interactionType\": 1, \"questionType\": 4, \"questionId\": \"1_ExamineProvince\", \"learnToolsVersion\": \"0.3.4\", \"failureMessage\": \"\", \"exceptionClass\": \"\", \"trace\": \"\"}}, \"*\")"
      ],
      "text/plain": [
       "<IPython.core.display.Javascript object>"
      ]
     },
     "metadata": {},
     "output_type": "display_data"
    },
    {
     "data": {
      "text/markdown": [
       "<span style=\"color:#33cc33\">Correct:</span> \n",
       "\n",
       "There are inconsistencies that can be fixed by removing white spaces at the beginning and end of cells.  For instance, \"University of Central Florida\" and \" University of Central Florida\" both appear in the column."
      ],
      "text/plain": [
       "Correct: \n",
       "\n",
       "There are inconsistencies that can be fixed by removing white spaces at the beginning and end of cells.  For instance, \"University of Central Florida\" and \" University of Central Florida\" both appear in the column."
      ]
     },
     "metadata": {},
     "output_type": "display_data"
    }
   ],
   "source": [
    "# Check your answer (Run this code cell to receive credit!)\n",
    "q1.check()"
   ]
  },
  {
   "cell_type": "code",
   "execution_count": 6,
   "id": "18e5c4f7",
   "metadata": {
    "execution": {
     "iopub.execute_input": "2021-12-13T21:52:31.252878Z",
     "iopub.status.busy": "2021-12-13T21:52:31.251879Z",
     "iopub.status.idle": "2021-12-13T21:52:31.259488Z",
     "shell.execute_reply": "2021-12-13T21:52:31.260040Z",
     "shell.execute_reply.started": "2021-12-13T21:50:16.672374Z"
    },
    "papermill": {
     "duration": 0.029613,
     "end_time": "2021-12-13T21:52:31.260236",
     "exception": false,
     "start_time": "2021-12-13T21:52:31.230623",
     "status": "completed"
    },
    "tags": []
   },
   "outputs": [
    {
     "data": {
      "application/javascript": [
       "parent.postMessage({\"jupyterEvent\": \"custom.exercise_interaction\", \"data\": {\"interactionType\": 2, \"questionType\": 4, \"questionId\": \"1_ExamineProvince\", \"learnToolsVersion\": \"0.3.4\", \"valueTowardsCompletion\": 0.0, \"failureMessage\": \"\", \"exceptionClass\": \"\", \"trace\": \"\", \"outcomeType\": 4}}, \"*\")"
      ],
      "text/plain": [
       "<IPython.core.display.Javascript object>"
      ]
     },
     "metadata": {},
     "output_type": "display_data"
    },
    {
     "data": {
      "text/markdown": [
       "<span style=\"color:#3366cc\">Hint:</span> Use `unis = professors['Graduated from'].unique()` to take a look at the unique values in the 'Graduated from' column. You may find it useful to sort the data before printing it."
      ],
      "text/plain": [
       "Hint: Use `unis = professors['Graduated from'].unique()` to take a look at the unique values in the 'Graduated from' column. You may find it useful to sort the data before printing it."
      ]
     },
     "metadata": {},
     "output_type": "display_data"
    }
   ],
   "source": [
    "# Line below will give you a hint\n",
    "q1.hint()"
   ]
  },
  {
   "cell_type": "markdown",
   "id": "9c29199e",
   "metadata": {
    "papermill": {
     "duration": 0.018654,
     "end_time": "2021-12-13T21:52:31.297873",
     "exception": false,
     "start_time": "2021-12-13T21:52:31.279219",
     "status": "completed"
    },
    "tags": []
   },
   "source": [
    "# 2) Do some text pre-processing\n",
    "\n",
    "Convert every entry in the \"Graduated from\" column in the `professors` DataFrame to remove white spaces at the beginning and end of cells."
   ]
  },
  {
   "cell_type": "code",
   "execution_count": 7,
   "id": "f1e318b1",
   "metadata": {
    "execution": {
     "iopub.execute_input": "2021-12-13T21:52:31.339939Z",
     "iopub.status.busy": "2021-12-13T21:52:31.338931Z",
     "iopub.status.idle": "2021-12-13T21:52:31.351438Z",
     "shell.execute_reply": "2021-12-13T21:52:31.352010Z",
     "shell.execute_reply.started": "2021-12-13T21:50:26.077527Z"
    },
    "papermill": {
     "duration": 0.03539,
     "end_time": "2021-12-13T21:52:31.352211",
     "exception": false,
     "start_time": "2021-12-13T21:52:31.316821",
     "status": "completed"
    },
    "tags": []
   },
   "outputs": [
    {
     "data": {
      "application/javascript": [
       "parent.postMessage({\"jupyterEvent\": \"custom.exercise_interaction\", \"data\": {\"outcomeType\": 1, \"valueTowardsCompletion\": 0.3333333333333333, \"interactionType\": 1, \"questionType\": 1, \"questionId\": \"2_TextProcessing\", \"learnToolsVersion\": \"0.3.4\", \"failureMessage\": \"\", \"exceptionClass\": \"\", \"trace\": \"\"}}, \"*\")"
      ],
      "text/plain": [
       "<IPython.core.display.Javascript object>"
      ]
     },
     "metadata": {},
     "output_type": "display_data"
    },
    {
     "data": {
      "text/markdown": [
       "<span style=\"color:#33cc33\">Correct</span>"
      ],
      "text/plain": [
       "Correct"
      ]
     },
     "metadata": {},
     "output_type": "display_data"
    }
   ],
   "source": [
    "# TODO: Your code here\n",
    "professors['Graduated from'] = professors['Graduated from'].str.strip()\n",
    "\n",
    "# Check your answer\n",
    "q2.check()"
   ]
  },
  {
   "cell_type": "code",
   "execution_count": 8,
   "id": "66249bbc",
   "metadata": {
    "execution": {
     "iopub.execute_input": "2021-12-13T21:52:31.397715Z",
     "iopub.status.busy": "2021-12-13T21:52:31.396711Z",
     "iopub.status.idle": "2021-12-13T21:52:31.409215Z",
     "shell.execute_reply": "2021-12-13T21:52:31.408525Z",
     "shell.execute_reply.started": "2021-12-13T21:50:29.476373Z"
    },
    "papermill": {
     "duration": 0.037436,
     "end_time": "2021-12-13T21:52:31.409373",
     "exception": false,
     "start_time": "2021-12-13T21:52:31.371937",
     "status": "completed"
    },
    "tags": []
   },
   "outputs": [
    {
     "data": {
      "application/javascript": [
       "parent.postMessage({\"jupyterEvent\": \"custom.exercise_interaction\", \"data\": {\"interactionType\": 2, \"questionType\": 1, \"questionId\": \"2_TextProcessing\", \"learnToolsVersion\": \"0.3.4\", \"valueTowardsCompletion\": 0.0, \"failureMessage\": \"\", \"exceptionClass\": \"\", \"trace\": \"\", \"outcomeType\": 4}}, \"*\")"
      ],
      "text/plain": [
       "<IPython.core.display.Javascript object>"
      ]
     },
     "metadata": {},
     "output_type": "display_data"
    },
    {
     "data": {
      "text/markdown": [
       "<span style=\"color:#3366cc\">Hint:</span> In the tutorial, you did the same operation on a different column."
      ],
      "text/plain": [
       "Hint: In the tutorial, you did the same operation on a different column."
      ]
     },
     "metadata": {},
     "output_type": "display_data"
    },
    {
     "data": {
      "application/javascript": [
       "parent.postMessage({\"jupyterEvent\": \"custom.exercise_interaction\", \"data\": {\"interactionType\": 3, \"questionType\": 1, \"questionId\": \"2_TextProcessing\", \"learnToolsVersion\": \"0.3.4\", \"valueTowardsCompletion\": 0.0, \"failureMessage\": \"\", \"exceptionClass\": \"\", \"trace\": \"\", \"outcomeType\": 4}}, \"*\")"
      ],
      "text/plain": [
       "<IPython.core.display.Javascript object>"
      ]
     },
     "metadata": {},
     "output_type": "display_data"
    },
    {
     "data": {
      "text/markdown": [
       "<span style=\"color:#33cc99\">Solution:</span> \n",
       "```python\n",
       "professors['Graduated from'] = professors['Graduated from'].str.strip()\n",
       "\n",
       "```"
      ],
      "text/plain": [
       "Solution: \n",
       "```python\n",
       "professors['Graduated from'] = professors['Graduated from'].str.strip()\n",
       "\n",
       "```"
      ]
     },
     "metadata": {},
     "output_type": "display_data"
    }
   ],
   "source": [
    "# Lines below will give you a hint or solution code\n",
    "q2.hint()\n",
    "q2.solution()"
   ]
  },
  {
   "cell_type": "code",
   "execution_count": 9,
   "id": "9b952e63",
   "metadata": {
    "execution": {
     "iopub.execute_input": "2021-12-13T21:52:31.463183Z",
     "iopub.status.busy": "2021-12-13T21:52:31.462233Z",
     "iopub.status.idle": "2021-12-13T21:52:31.465665Z",
     "shell.execute_reply": "2021-12-13T21:52:31.466161Z",
     "shell.execute_reply.started": "2021-12-13T21:45:35.079376Z"
    },
    "papermill": {
     "duration": 0.034872,
     "end_time": "2021-12-13T21:52:31.466354",
     "exception": false,
     "start_time": "2021-12-13T21:52:31.431482",
     "status": "completed"
    },
    "tags": []
   },
   "outputs": [
    {
     "data": {
      "text/plain": [
       "0          thailand\n",
       "1          thailand\n",
       "2          thailand\n",
       "3          thailand\n",
       "4          pakistan\n",
       "           ...     \n",
       "1137    south korea\n",
       "1138         france\n",
       "1139            usa\n",
       "1140       pakistan\n",
       "1141    south korea\n",
       "Name: Country, Length: 1142, dtype: object"
      ]
     },
     "execution_count": 9,
     "metadata": {},
     "output_type": "execute_result"
    }
   ],
   "source": [
    "professors['Country']"
   ]
  },
  {
   "cell_type": "markdown",
   "id": "34636234",
   "metadata": {
    "papermill": {
     "duration": 0.022289,
     "end_time": "2021-12-13T21:52:31.511914",
     "exception": false,
     "start_time": "2021-12-13T21:52:31.489625",
     "status": "completed"
    },
    "tags": []
   },
   "source": [
    "# 3) Continue working with countries\n",
    "\n",
    "In the tutorial, we focused on cleaning up inconsistencies in the \"Country\" column.  Run the code cell below to view the list of unique values that we ended with."
   ]
  },
  {
   "cell_type": "code",
   "execution_count": 10,
   "id": "f3df000b",
   "metadata": {
    "execution": {
     "iopub.execute_input": "2021-12-13T21:52:31.565369Z",
     "iopub.status.busy": "2021-12-13T21:52:31.564707Z",
     "iopub.status.idle": "2021-12-13T21:52:31.575977Z",
     "shell.execute_reply": "2021-12-13T21:52:31.576587Z",
     "shell.execute_reply.started": "2021-12-13T21:51:04.943474Z"
    },
    "papermill": {
     "duration": 0.041614,
     "end_time": "2021-12-13T21:52:31.576801",
     "exception": false,
     "start_time": "2021-12-13T21:52:31.535187",
     "status": "completed"
    },
    "tags": []
   },
   "outputs": [
    {
     "data": {
      "text/plain": [
       "pakistan              776\n",
       "uk                     92\n",
       "usa                    55\n",
       "malaysia               25\n",
       "germany                23\n",
       "france                 23\n",
       "austria                20\n",
       "sweden                 17\n",
       "italy                  17\n",
       "china                  16\n",
       "south korea            15\n",
       "thailand               12\n",
       "australia              10\n",
       "netherland              6\n",
       "canada                  6\n",
       "norway                  3\n",
       "ireland                 3\n",
       "japan                   3\n",
       "spain                   3\n",
       "singapore               3\n",
       "new zealand             2\n",
       "portugal                2\n",
       "finland                 1\n",
       "greece                  1\n",
       "turkey                  1\n",
       "macau                   1\n",
       "russian federation      1\n",
       "urbana                  1\n",
       "hongkong                1\n",
       "saudi arabia            1\n",
       "mauritius               1\n",
       "scotland                1\n",
       "Name: Country, dtype: int64"
      ]
     },
     "execution_count": 10,
     "metadata": {},
     "output_type": "execute_result"
    }
   ],
   "source": [
    "# get all the unique values in the 'City' column\n",
    "countries = professors['Country'].unique()\n",
    "\n",
    "# sort them alphabetically and then take a closer look\n",
    "countries.sort()\n",
    "# countries\n",
    "# professors['Country'].value_counts()\n",
    "professors = professors.replace('usofa', 'usa')\n",
    "professors['Country'].value_counts()"
   ]
  },
  {
   "cell_type": "markdown",
   "id": "fc09dc9d",
   "metadata": {
    "papermill": {
     "duration": 0.021962,
     "end_time": "2021-12-13T21:52:31.621314",
     "exception": false,
     "start_time": "2021-12-13T21:52:31.599352",
     "status": "completed"
    },
    "tags": []
   },
   "source": [
    "Take another look at the \"Country\" column and see if there's any more data cleaning we need to do.\n",
    "\n",
    "It looks like 'usa' and 'usofa' should be the same country.  Correct the \"Country\" column in the dataframe so that 'usofa' appears instead as 'usa'.\n",
    "\n",
    "**Use the most recent version of the DataFrame (with the whitespaces at the beginning and end of cells removed) from question 2.**"
   ]
  },
  {
   "cell_type": "code",
   "execution_count": 11,
   "id": "9ed1fdd7",
   "metadata": {
    "execution": {
     "iopub.execute_input": "2021-12-13T21:52:31.679368Z",
     "iopub.status.busy": "2021-12-13T21:52:31.678687Z",
     "iopub.status.idle": "2021-12-13T21:52:31.683729Z",
     "shell.execute_reply": "2021-12-13T21:52:31.684215Z",
     "shell.execute_reply.started": "2021-12-13T21:51:40.786285Z"
    },
    "papermill": {
     "duration": 0.040658,
     "end_time": "2021-12-13T21:52:31.684391",
     "exception": false,
     "start_time": "2021-12-13T21:52:31.643733",
     "status": "completed"
    },
    "tags": []
   },
   "outputs": [
    {
     "name": "stdout",
     "output_type": "stream",
     "text": [
      "All done!\n"
     ]
    },
    {
     "data": {
      "application/javascript": [
       "parent.postMessage({\"jupyterEvent\": \"custom.exercise_interaction\", \"data\": {\"outcomeType\": 1, \"valueTowardsCompletion\": 0.3333333333333333, \"interactionType\": 1, \"questionType\": 1, \"questionId\": \"3_WorkingWithCities\", \"learnToolsVersion\": \"0.3.4\", \"failureMessage\": \"\", \"exceptionClass\": \"\", \"trace\": \"\"}}, \"*\")"
      ],
      "text/plain": [
       "<IPython.core.display.Javascript object>"
      ]
     },
     "metadata": {},
     "output_type": "display_data"
    },
    {
     "data": {
      "text/markdown": [
       "<span style=\"color:#33cc33\">Correct</span>"
      ],
      "text/plain": [
       "Correct"
      ]
     },
     "metadata": {},
     "output_type": "display_data"
    }
   ],
   "source": [
    "# TODO: Your code here!\n",
    "matches = fuzzywuzzy.process.extract(\"usa\", countries, limit=10, scorer=fuzzywuzzy.fuzz.token_sort_ratio)\n",
    "replace_matches_in_column(df=professors, column='Country', string_to_match=\"usa\", min_ratio=70)\n",
    "\n",
    "# # Check your answer\n",
    "q3.check()"
   ]
  },
  {
   "cell_type": "code",
   "execution_count": 12,
   "id": "21e9489b",
   "metadata": {
    "execution": {
     "iopub.execute_input": "2021-12-13T21:52:31.735097Z",
     "iopub.status.busy": "2021-12-13T21:52:31.734450Z",
     "iopub.status.idle": "2021-12-13T21:52:31.742949Z",
     "shell.execute_reply": "2021-12-13T21:52:31.743437Z",
     "shell.execute_reply.started": "2021-12-13T21:51:43.902798Z"
    },
    "papermill": {
     "duration": 0.035661,
     "end_time": "2021-12-13T21:52:31.743623",
     "exception": false,
     "start_time": "2021-12-13T21:52:31.707962",
     "status": "completed"
    },
    "tags": []
   },
   "outputs": [
    {
     "data": {
      "application/javascript": [
       "parent.postMessage({\"jupyterEvent\": \"custom.exercise_interaction\", \"data\": {\"interactionType\": 2, \"questionType\": 1, \"questionId\": \"3_WorkingWithCities\", \"learnToolsVersion\": \"0.3.4\", \"valueTowardsCompletion\": 0.0, \"failureMessage\": \"\", \"exceptionClass\": \"\", \"trace\": \"\", \"outcomeType\": 4}}, \"*\")"
      ],
      "text/plain": [
       "<IPython.core.display.Javascript object>"
      ]
     },
     "metadata": {},
     "output_type": "display_data"
    },
    {
     "data": {
      "text/markdown": [
       "<span style=\"color:#3366cc\">Hint:</span> Use the `replace_matches_in_column()` function defined above."
      ],
      "text/plain": [
       "Hint: Use the `replace_matches_in_column()` function defined above."
      ]
     },
     "metadata": {},
     "output_type": "display_data"
    },
    {
     "data": {
      "application/javascript": [
       "parent.postMessage({\"jupyterEvent\": \"custom.exercise_interaction\", \"data\": {\"interactionType\": 3, \"questionType\": 1, \"questionId\": \"3_WorkingWithCities\", \"learnToolsVersion\": \"0.3.4\", \"valueTowardsCompletion\": 0.0, \"failureMessage\": \"\", \"exceptionClass\": \"\", \"trace\": \"\", \"outcomeType\": 4}}, \"*\")"
      ],
      "text/plain": [
       "<IPython.core.display.Javascript object>"
      ]
     },
     "metadata": {},
     "output_type": "display_data"
    },
    {
     "data": {
      "text/markdown": [
       "<span style=\"color:#33cc99\">Solution:</span> \n",
       "```python\n",
       "matches = fuzzywuzzy.process.extract(\"usa\", countries, limit=10, scorer=fuzzywuzzy.fuzz.token_sort_ratio)\n",
       "replace_matches_in_column(df=professors, column='Country', string_to_match=\"usa\", min_ratio=70)\n",
       "\n",
       "```"
      ],
      "text/plain": [
       "Solution: \n",
       "```python\n",
       "matches = fuzzywuzzy.process.extract(\"usa\", countries, limit=10, scorer=fuzzywuzzy.fuzz.token_sort_ratio)\n",
       "replace_matches_in_column(df=professors, column='Country', string_to_match=\"usa\", min_ratio=70)\n",
       "\n",
       "```"
      ]
     },
     "metadata": {},
     "output_type": "display_data"
    }
   ],
   "source": [
    "# Lines below will give you a hint or solution code\n",
    "q3.hint()\n",
    "q3.solution()"
   ]
  },
  {
   "cell_type": "markdown",
   "id": "624f961e",
   "metadata": {
    "papermill": {
     "duration": 0.025783,
     "end_time": "2021-12-13T21:52:31.795961",
     "exception": false,
     "start_time": "2021-12-13T21:52:31.770178",
     "status": "completed"
    },
    "tags": []
   },
   "source": [
    "# Congratulations!\n",
    "\n",
    "Congratulations for completing the **Data Cleaning** course on Kaggle Learn!\n",
    "\n",
    "To practice your new skills, you're encouraged to download and investigate some of [Kaggle's Datasets](https://www.kaggle.com/datasets)."
   ]
  },
  {
   "cell_type": "markdown",
   "id": "82ee0733",
   "metadata": {
    "papermill": {
     "duration": 0.024951,
     "end_time": "2021-12-13T21:52:31.846251",
     "exception": false,
     "start_time": "2021-12-13T21:52:31.821300",
     "status": "completed"
    },
    "tags": []
   },
   "source": [
    "---\n",
    "\n",
    "\n",
    "\n",
    "\n",
    "*Have questions or comments? Visit the [course discussion forum](https://www.kaggle.com/learn/data-cleaning/discussion) to chat with other learners.*"
   ]
  }
 ],
 "metadata": {
  "kernelspec": {
   "display_name": "Python 3",
   "language": "python",
   "name": "python3"
  },
  "language_info": {
   "codemirror_mode": {
    "name": "ipython",
    "version": 3
   },
   "file_extension": ".py",
   "mimetype": "text/x-python",
   "name": "python",
   "nbconvert_exporter": "python",
   "pygments_lexer": "ipython3",
   "version": "3.7.12"
  },
  "papermill": {
   "default_parameters": {},
   "duration": 13.185669,
   "end_time": "2021-12-13T21:52:32.784009",
   "environment_variables": {},
   "exception": null,
   "input_path": "__notebook__.ipynb",
   "output_path": "__notebook__.ipynb",
   "parameters": {},
   "start_time": "2021-12-13T21:52:19.598340",
   "version": "2.3.3"
  }
 },
 "nbformat": 4,
 "nbformat_minor": 5
}
