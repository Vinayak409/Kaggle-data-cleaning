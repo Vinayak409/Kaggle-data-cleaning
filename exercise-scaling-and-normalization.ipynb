{
 "cells": [
  {
   "cell_type": "markdown",
   "id": "1d4eb640",
   "metadata": {
    "papermill": {
     "duration": 0.018593,
     "end_time": "2021-12-14T04:03:10.208427",
     "exception": false,
     "start_time": "2021-12-14T04:03:10.189834",
     "status": "completed"
    },
    "tags": []
   },
   "source": [
    "**This notebook is an exercise in the [Data Cleaning](https://www.kaggle.com/learn/data-cleaning) course.  You can reference the tutorial at [this link](https://www.kaggle.com/alexisbcook/scaling-and-normalization).**\n",
    "\n",
    "---\n"
   ]
  },
  {
   "cell_type": "markdown",
   "id": "70157f40",
   "metadata": {
    "papermill": {
     "duration": 0.01713,
     "end_time": "2021-12-14T04:03:10.243403",
     "exception": false,
     "start_time": "2021-12-14T04:03:10.226273",
     "status": "completed"
    },
    "tags": []
   },
   "source": [
    "In this exercise, you'll apply what you learned in the **Scaling and normalization** tutorial.\n",
    "\n",
    "# Setup\n",
    "\n",
    "The questions below will give you feedback on your work. Run the following cell to set up the feedback system."
   ]
  },
  {
   "cell_type": "code",
   "execution_count": 1,
   "id": "5e1718a0",
   "metadata": {
    "execution": {
     "iopub.execute_input": "2021-12-14T04:03:10.283168Z",
     "iopub.status.busy": "2021-12-14T04:03:10.281993Z",
     "iopub.status.idle": "2021-12-14T04:03:13.747433Z",
     "shell.execute_reply": "2021-12-14T04:03:13.745756Z",
     "shell.execute_reply.started": "2021-12-13T19:08:43.735602Z"
    },
    "papermill": {
     "duration": 3.486034,
     "end_time": "2021-12-14T04:03:13.747654",
     "exception": false,
     "start_time": "2021-12-14T04:03:10.261620",
     "status": "completed"
    },
    "tags": []
   },
   "outputs": [
    {
     "name": "stdout",
     "output_type": "stream",
     "text": [
      "Setup Complete\n"
     ]
    }
   ],
   "source": [
    "from learntools.core import binder\n",
    "binder.bind(globals())\n",
    "from learntools.data_cleaning.ex2 import *\n",
    "print(\"Setup Complete\")"
   ]
  },
  {
   "cell_type": "markdown",
   "id": "ab7b4ce1",
   "metadata": {
    "papermill": {
     "duration": 0.017209,
     "end_time": "2021-12-14T04:03:13.784521",
     "exception": false,
     "start_time": "2021-12-14T04:03:13.767312",
     "status": "completed"
    },
    "tags": []
   },
   "source": [
    "# Get our environment set up\n",
    "\n",
    "To practice scaling and normalization, we're going to use a [dataset of Kickstarter campaigns](https://www.kaggle.com/kemical/kickstarter-projects). (Kickstarter is a website where people can ask people to invest in various projects and concept products.)\n",
    "\n",
    "The next code cell loads in the libraries and dataset we'll be using. "
   ]
  },
  {
   "cell_type": "code",
   "execution_count": 2,
   "id": "bbdd5b5e",
   "metadata": {
    "execution": {
     "iopub.execute_input": "2021-12-14T04:03:13.822882Z",
     "iopub.status.busy": "2021-12-14T04:03:13.822251Z",
     "iopub.status.idle": "2021-12-14T04:03:15.328237Z",
     "shell.execute_reply": "2021-12-14T04:03:15.327669Z",
     "shell.execute_reply.started": "2021-12-13T19:08:47.669501Z"
    },
    "papermill": {
     "duration": 1.526402,
     "end_time": "2021-12-14T04:03:15.328387",
     "exception": false,
     "start_time": "2021-12-14T04:03:13.801985",
     "status": "completed"
    },
    "tags": []
   },
   "outputs": [],
   "source": [
    "# modules we'll use\n",
    "import pandas as pd\n",
    "import numpy as np\n",
    "\n",
    "# for Box-Cox Transformation\n",
    "from scipy import stats\n",
    "\n",
    "# for min_max scaling\n",
    "from mlxtend.preprocessing import minmax_scaling\n",
    "\n",
    "# plotting modules\n",
    "import seaborn as sns\n",
    "import matplotlib.pyplot as plt\n",
    "\n",
    "# read in all our data\n",
    "kickstarters_2017 = pd.read_csv(\"../input/kickstarter-projects/ks-projects-201801.csv\")\n",
    "\n",
    "# set seed for reproducibility\n",
    "np.random.seed(0)"
   ]
  },
  {
   "cell_type": "markdown",
   "id": "b7c1251d",
   "metadata": {
    "papermill": {
     "duration": 0.018537,
     "end_time": "2021-12-14T04:03:15.364801",
     "exception": false,
     "start_time": "2021-12-14T04:03:15.346264",
     "status": "completed"
    },
    "tags": []
   },
   "source": [
    "Let's start by scaling the goals of each campaign, which is how much money they were asking for.  The plots show a histogram of the values in the \"usd_goal_real\" column, both before and after scaling.  "
   ]
  },
  {
   "cell_type": "code",
   "execution_count": 3,
   "id": "66791900",
   "metadata": {
    "execution": {
     "iopub.execute_input": "2021-12-14T04:03:15.407404Z",
     "iopub.status.busy": "2021-12-14T04:03:15.406743Z",
     "iopub.status.idle": "2021-12-14T04:03:15.429871Z",
     "shell.execute_reply": "2021-12-14T04:03:15.430394Z",
     "shell.execute_reply.started": "2021-12-13T19:09:30.412918Z"
    },
    "papermill": {
     "duration": 0.04809,
     "end_time": "2021-12-14T04:03:15.430565",
     "exception": false,
     "start_time": "2021-12-14T04:03:15.382475",
     "status": "completed"
    },
    "tags": []
   },
   "outputs": [
    {
     "data": {
      "text/html": [
       "<div>\n",
       "<style scoped>\n",
       "    .dataframe tbody tr th:only-of-type {\n",
       "        vertical-align: middle;\n",
       "    }\n",
       "\n",
       "    .dataframe tbody tr th {\n",
       "        vertical-align: top;\n",
       "    }\n",
       "\n",
       "    .dataframe thead th {\n",
       "        text-align: right;\n",
       "    }\n",
       "</style>\n",
       "<table border=\"1\" class=\"dataframe\">\n",
       "  <thead>\n",
       "    <tr style=\"text-align: right;\">\n",
       "      <th></th>\n",
       "      <th>ID</th>\n",
       "      <th>name</th>\n",
       "      <th>category</th>\n",
       "      <th>main_category</th>\n",
       "      <th>currency</th>\n",
       "      <th>deadline</th>\n",
       "      <th>goal</th>\n",
       "      <th>launched</th>\n",
       "      <th>pledged</th>\n",
       "      <th>state</th>\n",
       "      <th>backers</th>\n",
       "      <th>country</th>\n",
       "      <th>usd pledged</th>\n",
       "      <th>usd_pledged_real</th>\n",
       "      <th>usd_goal_real</th>\n",
       "    </tr>\n",
       "  </thead>\n",
       "  <tbody>\n",
       "    <tr>\n",
       "      <th>0</th>\n",
       "      <td>1000002330</td>\n",
       "      <td>The Songs of Adelaide &amp; Abullah</td>\n",
       "      <td>Poetry</td>\n",
       "      <td>Publishing</td>\n",
       "      <td>GBP</td>\n",
       "      <td>2015-10-09</td>\n",
       "      <td>1000.0</td>\n",
       "      <td>2015-08-11 12:12:28</td>\n",
       "      <td>0.0</td>\n",
       "      <td>failed</td>\n",
       "      <td>0</td>\n",
       "      <td>GB</td>\n",
       "      <td>0.0</td>\n",
       "      <td>0.0</td>\n",
       "      <td>1533.95</td>\n",
       "    </tr>\n",
       "    <tr>\n",
       "      <th>1</th>\n",
       "      <td>1000003930</td>\n",
       "      <td>Greeting From Earth: ZGAC Arts Capsule For ET</td>\n",
       "      <td>Narrative Film</td>\n",
       "      <td>Film &amp; Video</td>\n",
       "      <td>USD</td>\n",
       "      <td>2017-11-01</td>\n",
       "      <td>30000.0</td>\n",
       "      <td>2017-09-02 04:43:57</td>\n",
       "      <td>2421.0</td>\n",
       "      <td>failed</td>\n",
       "      <td>15</td>\n",
       "      <td>US</td>\n",
       "      <td>100.0</td>\n",
       "      <td>2421.0</td>\n",
       "      <td>30000.00</td>\n",
       "    </tr>\n",
       "    <tr>\n",
       "      <th>2</th>\n",
       "      <td>1000004038</td>\n",
       "      <td>Where is Hank?</td>\n",
       "      <td>Narrative Film</td>\n",
       "      <td>Film &amp; Video</td>\n",
       "      <td>USD</td>\n",
       "      <td>2013-02-26</td>\n",
       "      <td>45000.0</td>\n",
       "      <td>2013-01-12 00:20:50</td>\n",
       "      <td>220.0</td>\n",
       "      <td>failed</td>\n",
       "      <td>3</td>\n",
       "      <td>US</td>\n",
       "      <td>220.0</td>\n",
       "      <td>220.0</td>\n",
       "      <td>45000.00</td>\n",
       "    </tr>\n",
       "    <tr>\n",
       "      <th>3</th>\n",
       "      <td>1000007540</td>\n",
       "      <td>ToshiCapital Rekordz Needs Help to Complete Album</td>\n",
       "      <td>Music</td>\n",
       "      <td>Music</td>\n",
       "      <td>USD</td>\n",
       "      <td>2012-04-16</td>\n",
       "      <td>5000.0</td>\n",
       "      <td>2012-03-17 03:24:11</td>\n",
       "      <td>1.0</td>\n",
       "      <td>failed</td>\n",
       "      <td>1</td>\n",
       "      <td>US</td>\n",
       "      <td>1.0</td>\n",
       "      <td>1.0</td>\n",
       "      <td>5000.00</td>\n",
       "    </tr>\n",
       "    <tr>\n",
       "      <th>4</th>\n",
       "      <td>1000011046</td>\n",
       "      <td>Community Film Project: The Art of Neighborhoo...</td>\n",
       "      <td>Film &amp; Video</td>\n",
       "      <td>Film &amp; Video</td>\n",
       "      <td>USD</td>\n",
       "      <td>2015-08-29</td>\n",
       "      <td>19500.0</td>\n",
       "      <td>2015-07-04 08:35:03</td>\n",
       "      <td>1283.0</td>\n",
       "      <td>canceled</td>\n",
       "      <td>14</td>\n",
       "      <td>US</td>\n",
       "      <td>1283.0</td>\n",
       "      <td>1283.0</td>\n",
       "      <td>19500.00</td>\n",
       "    </tr>\n",
       "  </tbody>\n",
       "</table>\n",
       "</div>"
      ],
      "text/plain": [
       "           ID                                               name  \\\n",
       "0  1000002330                    The Songs of Adelaide & Abullah   \n",
       "1  1000003930      Greeting From Earth: ZGAC Arts Capsule For ET   \n",
       "2  1000004038                                     Where is Hank?   \n",
       "3  1000007540  ToshiCapital Rekordz Needs Help to Complete Album   \n",
       "4  1000011046  Community Film Project: The Art of Neighborhoo...   \n",
       "\n",
       "         category main_category currency    deadline     goal  \\\n",
       "0          Poetry    Publishing      GBP  2015-10-09   1000.0   \n",
       "1  Narrative Film  Film & Video      USD  2017-11-01  30000.0   \n",
       "2  Narrative Film  Film & Video      USD  2013-02-26  45000.0   \n",
       "3           Music         Music      USD  2012-04-16   5000.0   \n",
       "4    Film & Video  Film & Video      USD  2015-08-29  19500.0   \n",
       "\n",
       "              launched  pledged     state  backers country  usd pledged  \\\n",
       "0  2015-08-11 12:12:28      0.0    failed        0      GB          0.0   \n",
       "1  2017-09-02 04:43:57   2421.0    failed       15      US        100.0   \n",
       "2  2013-01-12 00:20:50    220.0    failed        3      US        220.0   \n",
       "3  2012-03-17 03:24:11      1.0    failed        1      US          1.0   \n",
       "4  2015-07-04 08:35:03   1283.0  canceled       14      US       1283.0   \n",
       "\n",
       "   usd_pledged_real  usd_goal_real  \n",
       "0               0.0        1533.95  \n",
       "1            2421.0       30000.00  \n",
       "2             220.0       45000.00  \n",
       "3               1.0        5000.00  \n",
       "4            1283.0       19500.00  "
      ]
     },
     "execution_count": 3,
     "metadata": {},
     "output_type": "execute_result"
    }
   ],
   "source": [
    "kickstarters_2017.head()"
   ]
  },
  {
   "cell_type": "code",
   "execution_count": 4,
   "id": "8ea7fb82",
   "metadata": {
    "execution": {
     "iopub.execute_input": "2021-12-14T04:03:15.475515Z",
     "iopub.status.busy": "2021-12-14T04:03:15.471107Z",
     "iopub.status.idle": "2021-12-14T04:03:18.601280Z",
     "shell.execute_reply": "2021-12-14T04:03:18.601876Z",
     "shell.execute_reply.started": "2021-12-13T19:11:41.60802Z"
    },
    "papermill": {
     "duration": 3.152393,
     "end_time": "2021-12-14T04:03:18.602064",
     "exception": false,
     "start_time": "2021-12-14T04:03:15.449671",
     "status": "completed"
    },
    "tags": []
   },
   "outputs": [
    {
     "name": "stderr",
     "output_type": "stream",
     "text": [
      "/opt/conda/lib/python3.7/site-packages/seaborn/distributions.py:2619: FutureWarning: `distplot` is a deprecated function and will be removed in a future version. Please adapt your code to use either `displot` (a figure-level function with similar flexibility) or `histplot` (an axes-level function for histograms).\n",
      "  warnings.warn(msg, FutureWarning)\n",
      "/opt/conda/lib/python3.7/site-packages/seaborn/distributions.py:2619: FutureWarning: `distplot` is a deprecated function and will be removed in a future version. Please adapt your code to use either `displot` (a figure-level function with similar flexibility) or `histplot` (an axes-level function for histograms).\n",
      "  warnings.warn(msg, FutureWarning)\n"
     ]
    },
    {
     "data": {
      "text/plain": [
       "Text(0.5, 1.0, 'Scaled data')"
      ]
     },
     "execution_count": 4,
     "metadata": {},
     "output_type": "execute_result"
    },
    {
     "data": {
      "image/png": "[encoded data removed]",
      "text/plain": [
       "<Figure size 1080x216 with 2 Axes>"
      ]
     },
     "metadata": {
      "needs_background": "light"
     },
     "output_type": "display_data"
    }
   ],
   "source": [
    "# select the usd_goal_real column\n",
    "original_data = pd.DataFrame(kickstarters_2017.usd_goal_real)\n",
    "\n",
    "# scale the goals from 0 to 1\n",
    "scaled_data = minmax_scaling(original_data, columns=['usd_goal_real'])\n",
    "\n",
    "# plot the original & scaled data together to compare\n",
    "fig, ax=plt.subplots(1,2,figsize=(15,3))\n",
    "sns.distplot(kickstarters_2017.usd_goal_real, ax=ax[0])\n",
    "ax[0].set_title(\"Original Data\")\n",
    "sns.distplot(scaled_data, ax=ax[1])\n",
    "ax[1].set_title(\"Scaled data\")"
   ]
  },
  {
   "cell_type": "markdown",
   "id": "34c4c551",
   "metadata": {
    "papermill": {
     "duration": 0.019924,
     "end_time": "2021-12-14T04:03:18.642264",
     "exception": false,
     "start_time": "2021-12-14T04:03:18.622340",
     "status": "completed"
    },
    "tags": []
   },
   "source": [
    "After scaling, all values lie between 0 and 1 (you can read this in the horizontal axis of the second plot above, and we verify in the code cell below)."
   ]
  },
  {
   "cell_type": "code",
   "execution_count": 5,
   "id": "7079eebf",
   "metadata": {
    "execution": {
     "iopub.execute_input": "2021-12-14T04:03:18.686371Z",
     "iopub.status.busy": "2021-12-14T04:03:18.685588Z",
     "iopub.status.idle": "2021-12-14T04:03:18.702775Z",
     "shell.execute_reply": "2021-12-14T04:03:18.703343Z",
     "shell.execute_reply.started": "2021-12-13T19:12:08.023713Z"
    },
    "papermill": {
     "duration": 0.041001,
     "end_time": "2021-12-14T04:03:18.703519",
     "exception": false,
     "start_time": "2021-12-14T04:03:18.662518",
     "status": "completed"
    },
    "tags": []
   },
   "outputs": [
    {
     "name": "stdout",
     "output_type": "stream",
     "text": [
      "Original data\n",
      "Preview:\n",
      "    usd_goal_real\n",
      "0        1533.95\n",
      "1       30000.00\n",
      "2       45000.00\n",
      "3        5000.00\n",
      "4       19500.00\n",
      "Minimum value: 0.01 \n",
      "Maximum value: 166361390.71\n",
      "______________________________\n",
      "\n",
      "Scaled data\n",
      "Preview:\n",
      "    usd_goal_real\n",
      "0       0.000009\n",
      "1       0.000180\n",
      "2       0.000270\n",
      "3       0.000030\n",
      "4       0.000117\n",
      "Minimum value: 0.0 \n",
      "Maximum value: 1.0\n"
     ]
    }
   ],
   "source": [
    "print('Original data\\nPreview:\\n', original_data.head())\n",
    "print('Minimum value:', float(original_data.min()),\n",
    "      '\\nMaximum value:', float(original_data.max()))\n",
    "print('_'*30)\n",
    "\n",
    "print('\\nScaled data\\nPreview:\\n', scaled_data.head())\n",
    "print('Minimum value:', float(scaled_data.min()),\n",
    "      '\\nMaximum value:', float(scaled_data.max()))"
   ]
  },
  {
   "cell_type": "markdown",
   "id": "39fb6f84",
   "metadata": {
    "papermill": {
     "duration": 0.021429,
     "end_time": "2021-12-14T04:03:18.745925",
     "exception": false,
     "start_time": "2021-12-14T04:03:18.724496",
     "status": "completed"
    },
    "tags": []
   },
   "source": [
    "# 1) Practice scaling\n",
    "\n",
    "We just scaled the \"usd_goal_real\" column. What about the \"goal\" column?\n",
    "\n",
    "Begin by running the code cell below to create a DataFrame `original_goal_data` containing the \"goal\" column."
   ]
  },
  {
   "cell_type": "code",
   "execution_count": 6,
   "id": "93a0e9c3",
   "metadata": {
    "execution": {
     "iopub.execute_input": "2021-12-14T04:03:18.792455Z",
     "iopub.status.busy": "2021-12-14T04:03:18.790221Z",
     "iopub.status.idle": "2021-12-14T04:03:18.794986Z",
     "shell.execute_reply": "2021-12-14T04:03:18.795612Z",
     "shell.execute_reply.started": "2021-12-13T19:13:05.724142Z"
    },
    "papermill": {
     "duration": 0.028884,
     "end_time": "2021-12-14T04:03:18.795793",
     "exception": false,
     "start_time": "2021-12-14T04:03:18.766909",
     "status": "completed"
    },
    "tags": []
   },
   "outputs": [],
   "source": [
    "# select the usd_goal_real column\n",
    "original_goal_data = pd.DataFrame(kickstarters_2017.goal)"
   ]
  },
  {
   "cell_type": "markdown",
   "id": "3214d3a1",
   "metadata": {
    "papermill": {
     "duration": 0.020578,
     "end_time": "2021-12-14T04:03:18.837923",
     "exception": false,
     "start_time": "2021-12-14T04:03:18.817345",
     "status": "completed"
    },
    "tags": []
   },
   "source": [
    "Use `original_goal_data` to create a new DataFrame `scaled_goal_data` with values scaled between 0 and 1. You must use the `minmax_scaling()` function."
   ]
  },
  {
   "cell_type": "code",
   "execution_count": 7,
   "id": "43f25016",
   "metadata": {
    "execution": {
     "iopub.execute_input": "2021-12-14T04:03:18.882936Z",
     "iopub.status.busy": "2021-12-14T04:03:18.882314Z",
     "iopub.status.idle": "2021-12-14T04:03:18.904977Z",
     "shell.execute_reply": "2021-12-14T04:03:18.905582Z",
     "shell.execute_reply.started": "2021-12-13T19:13:58.943555Z"
    },
    "papermill": {
     "duration": 0.046412,
     "end_time": "2021-12-14T04:03:18.905758",
     "exception": false,
     "start_time": "2021-12-14T04:03:18.859346",
     "status": "completed"
    },
    "tags": []
   },
   "outputs": [
    {
     "data": {
      "application/javascript": [
       "parent.postMessage({\"jupyterEvent\": \"custom.exercise_interaction\", \"data\": {\"outcomeType\": 1, \"valueTowardsCompletion\": 0.3333333333333333, \"interactionType\": 1, \"questionType\": 1, \"questionId\": \"1_TryScaling\", \"learnToolsVersion\": \"0.3.4\", \"failureMessage\": \"\", \"exceptionClass\": \"\", \"trace\": \"\"}}, \"*\")"
      ],
      "text/plain": [
       "<IPython.core.display.Javascript object>"
      ]
     },
     "metadata": {},
     "output_type": "display_data"
    },
    {
     "data": {
      "text/markdown": [
       "<span style=\"color:#33cc33\">Correct</span>"
      ],
      "text/plain": [
       "Correct"
      ]
     },
     "metadata": {},
     "output_type": "display_data"
    }
   ],
   "source": [
    "# TODO: Your code here\n",
    "scaled_goal_data = minmax_scaling(original_goal_data, columns=['goal'])\n",
    "\n",
    "# Check your answer\n",
    "q1.check()"
   ]
  },
  {
   "cell_type": "code",
   "execution_count": 8,
   "id": "13dfb5e4",
   "metadata": {
    "execution": {
     "iopub.execute_input": "2021-12-14T04:03:18.952350Z",
     "iopub.status.busy": "2021-12-14T04:03:18.951652Z",
     "iopub.status.idle": "2021-12-14T04:03:18.962619Z",
     "shell.execute_reply": "2021-12-14T04:03:18.962046Z",
     "shell.execute_reply.started": "2021-12-13T19:14:02.75795Z"
    },
    "papermill": {
     "duration": 0.035381,
     "end_time": "2021-12-14T04:03:18.962764",
     "exception": false,
     "start_time": "2021-12-14T04:03:18.927383",
     "status": "completed"
    },
    "tags": []
   },
   "outputs": [
    {
     "data": {
      "application/javascript": [
       "parent.postMessage({\"jupyterEvent\": \"custom.exercise_interaction\", \"data\": {\"interactionType\": 2, \"questionType\": 1, \"questionId\": \"1_TryScaling\", \"learnToolsVersion\": \"0.3.4\", \"valueTowardsCompletion\": 0.0, \"failureMessage\": \"\", \"exceptionClass\": \"\", \"trace\": \"\", \"outcomeType\": 4}}, \"*\")"
      ],
      "text/plain": [
       "<IPython.core.display.Javascript object>"
      ]
     },
     "metadata": {},
     "output_type": "display_data"
    },
    {
     "data": {
      "text/markdown": [
       "<span style=\"color:#3366cc\">Hint:</span> Use the `minimax_scaling()` function."
      ],
      "text/plain": [
       "Hint: Use the `minimax_scaling()` function."
      ]
     },
     "metadata": {},
     "output_type": "display_data"
    },
    {
     "data": {
      "application/javascript": [
       "parent.postMessage({\"jupyterEvent\": \"custom.exercise_interaction\", \"data\": {\"interactionType\": 3, \"questionType\": 1, \"questionId\": \"1_TryScaling\", \"learnToolsVersion\": \"0.3.4\", \"valueTowardsCompletion\": 0.0, \"failureMessage\": \"\", \"exceptionClass\": \"\", \"trace\": \"\", \"outcomeType\": 4}}, \"*\")"
      ],
      "text/plain": [
       "<IPython.core.display.Javascript object>"
      ]
     },
     "metadata": {},
     "output_type": "display_data"
    },
    {
     "data": {
      "text/markdown": [
       "<span style=\"color:#33cc99\">Solution:</span> \n",
       "```python\n",
       "scaled_goal_data = minmax_scaling(original_goal_data, columns=['goal'])\n",
       "\n",
       "```"
      ],
      "text/plain": [
       "Solution: \n",
       "```python\n",
       "scaled_goal_data = minmax_scaling(original_goal_data, columns=['goal'])\n",
       "\n",
       "```"
      ]
     },
     "metadata": {},
     "output_type": "display_data"
    }
   ],
   "source": [
    "# Lines below will give you a hint or solution code\n",
    "q1.hint()\n",
    "q1.solution()"
   ]
  },
  {
   "cell_type": "markdown",
   "id": "13083a25",
   "metadata": {
    "papermill": {
     "duration": 0.023929,
     "end_time": "2021-12-14T04:03:19.010832",
     "exception": false,
     "start_time": "2021-12-14T04:03:18.986903",
     "status": "completed"
    },
    "tags": []
   },
   "source": [
    "# 2) Practice normalization\n",
    "\n",
    "Now you'll practice normalization. We begin by normalizing the amount of money pledged to each campaign."
   ]
  },
  {
   "cell_type": "code",
   "execution_count": 9,
   "id": "f5b717a6",
   "metadata": {
    "execution": {
     "iopub.execute_input": "2021-12-14T04:03:19.066557Z",
     "iopub.status.busy": "2021-12-14T04:03:19.065816Z",
     "iopub.status.idle": "2021-12-14T04:03:22.212893Z",
     "shell.execute_reply": "2021-12-14T04:03:22.212270Z",
     "shell.execute_reply.started": "2021-12-13T19:16:47.635154Z"
    },
    "papermill": {
     "duration": 3.178182,
     "end_time": "2021-12-14T04:03:22.213043",
     "exception": false,
     "start_time": "2021-12-14T04:03:19.034861",
     "status": "completed"
    },
    "tags": []
   },
   "outputs": [
    {
     "name": "stderr",
     "output_type": "stream",
     "text": [
      "/opt/conda/lib/python3.7/site-packages/seaborn/distributions.py:2619: FutureWarning: `distplot` is a deprecated function and will be removed in a future version. Please adapt your code to use either `displot` (a figure-level function with similar flexibility) or `histplot` (an axes-level function for histograms).\n",
      "  warnings.warn(msg, FutureWarning)\n",
      "/opt/conda/lib/python3.7/site-packages/seaborn/distributions.py:2619: FutureWarning: `distplot` is a deprecated function and will be removed in a future version. Please adapt your code to use either `displot` (a figure-level function with similar flexibility) or `histplot` (an axes-level function for histograms).\n",
      "  warnings.warn(msg, FutureWarning)\n"
     ]
    },
    {
     "data": {
      "text/plain": [
       "Text(0.5, 1.0, 'Normalized data')"
      ]
     },
     "execution_count": 9,
     "metadata": {},
     "output_type": "execute_result"
    },
    {
     "data": {
      "image/png": "[encoded data removed]",
      "text/plain": [
       "<Figure size 1080x216 with 2 Axes>"
      ]
     },
     "metadata": {
      "needs_background": "light"
     },
     "output_type": "display_data"
    }
   ],
   "source": [
    "# get the index of all positive pledges (Box-Cox only takes positive values)\n",
    "index_of_positive_pledges = kickstarters_2017.usd_pledged_real > 0\n",
    "\n",
    "# get only positive pledges (using their indexes)\n",
    "positive_pledges = kickstarters_2017.usd_pledged_real.loc[index_of_positive_pledges]\n",
    "\n",
    "# normalize the pledges (w/ Box-Cox)\n",
    "normalized_pledges = pd.Series(stats.boxcox(positive_pledges)[0], \n",
    "                               name='usd_pledged_real', index=positive_pledges.index)\n",
    "\n",
    "# plot both together to compare\n",
    "fig, ax=plt.subplots(1,2,figsize=(15,3))\n",
    "sns.distplot(positive_pledges, ax=ax[0])\n",
    "ax[0].set_title(\"Original Data\")\n",
    "sns.distplot(normalized_pledges, ax=ax[1])\n",
    "ax[1].set_title(\"Normalized data\")"
   ]
  },
  {
   "cell_type": "markdown",
   "id": "e312f331",
   "metadata": {
    "papermill": {
     "duration": 0.024929,
     "end_time": "2021-12-14T04:03:22.265190",
     "exception": false,
     "start_time": "2021-12-14T04:03:22.240261",
     "status": "completed"
    },
    "tags": []
   },
   "source": [
    "It's not perfect (it looks like a lot pledges got very few pledges) but it is much closer to a normal distribution!"
   ]
  },
  {
   "cell_type": "code",
   "execution_count": 10,
   "id": "f918812d",
   "metadata": {
    "execution": {
     "iopub.execute_input": "2021-12-14T04:03:22.325546Z",
     "iopub.status.busy": "2021-12-14T04:03:22.324464Z",
     "iopub.status.idle": "2021-12-14T04:03:22.332670Z",
     "shell.execute_reply": "2021-12-14T04:03:22.331936Z",
     "shell.execute_reply.started": "2021-12-13T19:17:28.364329Z"
    },
    "papermill": {
     "duration": 0.04154,
     "end_time": "2021-12-14T04:03:22.332817",
     "exception": false,
     "start_time": "2021-12-14T04:03:22.291277",
     "status": "completed"
    },
    "tags": []
   },
   "outputs": [
    {
     "name": "stdout",
     "output_type": "stream",
     "text": [
      "Original data\n",
      "Preview:\n",
      " 1     2421.0\n",
      "2      220.0\n",
      "3        1.0\n",
      "4     1283.0\n",
      "5    52375.0\n",
      "Name: usd_pledged_real, dtype: float64\n",
      "Minimum value: 0.45 \n",
      "Maximum value: 20338986.27\n",
      "______________________________\n",
      "\n",
      "Normalized data\n",
      "Preview:\n",
      " 1    10.165142\n",
      "2     6.468598\n",
      "3     0.000000\n",
      "4     9.129277\n",
      "5    15.836853\n",
      "Name: usd_pledged_real, dtype: float64\n",
      "Minimum value: -0.7779954122762203 \n",
      "Maximum value: 30.69054020451361\n"
     ]
    }
   ],
   "source": [
    "print('Original data\\nPreview:\\n', positive_pledges.head())\n",
    "print('Minimum value:', float(positive_pledges.min()),\n",
    "      '\\nMaximum value:', float(positive_pledges.max()))\n",
    "print('_'*30)\n",
    "\n",
    "print('\\nNormalized data\\nPreview:\\n', normalized_pledges.head())\n",
    "print('Minimum value:', float(normalized_pledges.min()),\n",
    "      '\\nMaximum value:', float(normalized_pledges.max()))"
   ]
  },
  {
   "cell_type": "markdown",
   "id": "cba9dcde",
   "metadata": {
    "papermill": {
     "duration": 0.02533,
     "end_time": "2021-12-14T04:03:22.384520",
     "exception": false,
     "start_time": "2021-12-14T04:03:22.359190",
     "status": "completed"
    },
    "tags": []
   },
   "source": [
    "We used the \"usd_pledged_real\" column. Follow the same process to normalize the \"pledged\" column. "
   ]
  },
  {
   "cell_type": "code",
   "execution_count": 11,
   "id": "373cd0f2",
   "metadata": {
    "execution": {
     "iopub.execute_input": "2021-12-14T04:03:22.446485Z",
     "iopub.status.busy": "2021-12-14T04:03:22.445763Z",
     "iopub.status.idle": "2021-12-14T04:03:25.687631Z",
     "shell.execute_reply": "2021-12-14T04:03:25.688132Z",
     "shell.execute_reply.started": "2021-12-13T19:27:03.176886Z"
    },
    "papermill": {
     "duration": 3.27804,
     "end_time": "2021-12-14T04:03:25.688329",
     "exception": false,
     "start_time": "2021-12-14T04:03:22.410289",
     "status": "completed"
    },
    "tags": []
   },
   "outputs": [
    {
     "name": "stderr",
     "output_type": "stream",
     "text": [
      "/opt/conda/lib/python3.7/site-packages/seaborn/distributions.py:2619: FutureWarning: `distplot` is a deprecated function and will be removed in a future version. Please adapt your code to use either `displot` (a figure-level function with similar flexibility) or `histplot` (an axes-level function for histograms).\n",
      "  warnings.warn(msg, FutureWarning)\n",
      "/opt/conda/lib/python3.7/site-packages/seaborn/distributions.py:2619: FutureWarning: `distplot` is a deprecated function and will be removed in a future version. Please adapt your code to use either `displot` (a figure-level function with similar flexibility) or `histplot` (an axes-level function for histograms).\n",
      "  warnings.warn(msg, FutureWarning)\n"
     ]
    },
    {
     "data": {
      "text/plain": [
       "Text(0.5, 1.0, 'Normalized data')"
      ]
     },
     "execution_count": 11,
     "metadata": {},
     "output_type": "execute_result"
    },
    {
     "data": {
      "image/png": "[encoded data removed]",
      "text/plain": [
       "<Figure size 1080x360 with 2 Axes>"
      ]
     },
     "metadata": {
      "needs_background": "light"
     },
     "output_type": "display_data"
    }
   ],
   "source": [
    "# TODO: Your code here!\n",
    "index_pos_pledges = kickstarters_2017.pledged > 0\n",
    "positive_pledges_only = kickstarters_2017.pledged.loc[index_pos_pledges]\n",
    "\n",
    "normalized_values = pd.Series(stats.boxcox(positive_pledges_only)[0],\n",
    "                             name = 'pledged', index=positive_pledges_only.index)\n",
    "\n",
    "\n",
    "fig, ax = plt.subplots(1,2,figsize=(15,5))\n",
    "sns.distplot(positive_pledges_only, ax=ax[0])\n",
    "ax[0].set_title = (\"Original data\")\n",
    "sns.distplot(normalized_values, ax=ax[1])\n",
    "ax[1].set_title(\"Normalized data\")"
   ]
  },
  {
   "cell_type": "markdown",
   "id": "b2973ab6",
   "metadata": {
    "papermill": {
     "duration": 0.028871,
     "end_time": "2021-12-14T04:03:25.747756",
     "exception": false,
     "start_time": "2021-12-14T04:03:25.718885",
     "status": "completed"
    },
    "tags": []
   },
   "source": [
    "How does the normalized \"usd_pledged_real\" column look different from when we normalized the \"pledged\" column?  Or, do they look mostly the same?\n",
    "\n",
    "Once you have an answer, run the code cell below."
   ]
  },
  {
   "cell_type": "code",
   "execution_count": 12,
   "id": "66950623",
   "metadata": {
    "execution": {
     "iopub.execute_input": "2021-12-14T04:03:25.810990Z",
     "iopub.status.busy": "2021-12-14T04:03:25.810301Z",
     "iopub.status.idle": "2021-12-14T04:03:25.814502Z",
     "shell.execute_reply": "2021-12-14T04:03:25.814990Z",
     "shell.execute_reply.started": "2021-12-13T19:25:39.907403Z"
    },
    "papermill": {
     "duration": 0.037694,
     "end_time": "2021-12-14T04:03:25.815188",
     "exception": false,
     "start_time": "2021-12-14T04:03:25.777494",
     "status": "completed"
    },
    "tags": []
   },
   "outputs": [
    {
     "data": {
      "application/javascript": [
       "parent.postMessage({\"jupyterEvent\": \"custom.exercise_interaction\", \"data\": {\"outcomeType\": 1, \"valueTowardsCompletion\": 0.3333333333333333, \"interactionType\": 1, \"questionType\": 4, \"questionId\": \"2_TryNormalization\", \"learnToolsVersion\": \"0.3.4\", \"failureMessage\": \"\", \"exceptionClass\": \"\", \"trace\": \"\"}}, \"*\")"
      ],
      "text/plain": [
       "<IPython.core.display.Javascript object>"
      ]
     },
     "metadata": {},
     "output_type": "display_data"
    },
    {
     "data": {
      "text/markdown": [
       "<span style=\"color:#33cc33\">Correct:</span> \n",
       "\n",
       "The distributions in the normalized data look mostly the same."
      ],
      "text/plain": [
       "Correct: \n",
       "\n",
       "The distributions in the normalized data look mostly the same."
      ]
     },
     "metadata": {},
     "output_type": "display_data"
    }
   ],
   "source": [
    "# Check your answer (Run this code cell to receive credit!)\n",
    "q2.check()"
   ]
  },
  {
   "cell_type": "code",
   "execution_count": 13,
   "id": "5ae2d3c9",
   "metadata": {
    "execution": {
     "iopub.execute_input": "2021-12-14T04:03:25.877299Z",
     "iopub.status.busy": "2021-12-14T04:03:25.876666Z",
     "iopub.status.idle": "2021-12-14T04:03:25.882446Z",
     "shell.execute_reply": "2021-12-14T04:03:25.883016Z",
     "shell.execute_reply.started": "2021-12-13T19:18:16.964792Z"
    },
    "papermill": {
     "duration": 0.03793,
     "end_time": "2021-12-14T04:03:25.883215",
     "exception": false,
     "start_time": "2021-12-14T04:03:25.845285",
     "status": "completed"
    },
    "tags": []
   },
   "outputs": [
    {
     "data": {
      "application/javascript": [
       "parent.postMessage({\"jupyterEvent\": \"custom.exercise_interaction\", \"data\": {\"interactionType\": 2, \"questionType\": 4, \"questionId\": \"2_TryNormalization\", \"learnToolsVersion\": \"0.3.4\", \"valueTowardsCompletion\": 0.0, \"failureMessage\": \"\", \"exceptionClass\": \"\", \"trace\": \"\", \"outcomeType\": 4}}, \"*\")"
      ],
      "text/plain": [
       "<IPython.core.display.Javascript object>"
      ]
     },
     "metadata": {},
     "output_type": "display_data"
    },
    {
     "data": {
      "text/markdown": [
       "<span style=\"color:#3366cc\">Hint:</span> \n",
       "Try running this code:\n",
       "\n",
       "```python\n",
       "# get the index of all positive pledges (Box-Cox only takes positive values)\n",
       "index_positive_pledges = kickstarters_2017.pledged > 0\n",
       "\n",
       "# get only positive pledges (using their indexes)\n",
       "positive_pledges_only = kickstarters_2017.pledged.loc[index_positive_pledges]\n",
       "\n",
       "# normalize the pledges (w/ Box-Cox)\n",
       "normalized_values = pd.Series(stats.boxcox(positive_pledges_only)[0], \n",
       "                              name='pledged', index=positive_pledges_only.index)\n",
       "\n",
       "# plot both together to compare\n",
       "fig, ax = plt.subplots(1,2,figsize=(15,3))\n",
       "sns.distplot(positive_pledges_only, ax=ax[0])\n",
       "ax[0].set_title(\"Original Data\")\n",
       "sns.distplot(normalized_values, ax=ax[1])\n",
       "ax[1].set_title(\"Normalized data\")\n",
       "```\n",
       "\n"
      ],
      "text/plain": [
       "Hint: \n",
       "Try running this code:\n",
       "\n",
       "```python\n",
       "# get the index of all positive pledges (Box-Cox only takes positive values)\n",
       "index_positive_pledges = kickstarters_2017.pledged > 0\n",
       "\n",
       "# get only positive pledges (using their indexes)\n",
       "positive_pledges_only = kickstarters_2017.pledged.loc[index_positive_pledges]\n",
       "\n",
       "# normalize the pledges (w/ Box-Cox)\n",
       "normalized_values = pd.Series(stats.boxcox(positive_pledges_only)[0], \n",
       "                              name='pledged', index=positive_pledges_only.index)\n",
       "\n",
       "# plot both together to compare\n",
       "fig, ax = plt.subplots(1,2,figsize=(15,3))\n",
       "sns.distplot(positive_pledges_only, ax=ax[0])\n",
       "ax[0].set_title(\"Original Data\")\n",
       "sns.distplot(normalized_values, ax=ax[1])\n",
       "ax[1].set_title(\"Normalized data\")\n",
       "```\n"
      ]
     },
     "metadata": {},
     "output_type": "display_data"
    }
   ],
   "source": [
    "# Line below will give you a hint\n",
    "q2.hint()"
   ]
  },
  {
   "cell_type": "markdown",
   "id": "064ed056",
   "metadata": {
    "papermill": {
     "duration": 0.030111,
     "end_time": "2021-12-14T04:03:25.943870",
     "exception": false,
     "start_time": "2021-12-14T04:03:25.913759",
     "status": "completed"
    },
    "tags": []
   },
   "source": [
    "# (Optional) More practice\n",
    "\n",
    "Try finding a new dataset and pretend you're preparing to perform a [regression analysis](https://www.kaggle.com/rtatman/the-5-day-regression-challenge). \n",
    "\n",
    "[These datasets are a good start!](https://www.kaggle.com/rtatman/datasets-for-regression-analysis)\n",
    "\n",
    "Pick three or four variables and decide if you need to normalize or scale any of them and, if you think you should, practice applying the correct technique.\n",
    "\n",
    "# Keep going\n",
    "\n",
    "In the next lesson, learn how to [**parse dates**](https://www.kaggle.com/alexisbcook/parsing-dates) in a dataset."
   ]
  },
  {
   "cell_type": "markdown",
   "id": "173f910e",
   "metadata": {
    "papermill": {
     "duration": 0.030429,
     "end_time": "2021-12-14T04:03:26.005633",
     "exception": false,
     "start_time": "2021-12-14T04:03:25.975204",
     "status": "completed"
    },
    "tags": []
   },
   "source": [
    "---\n",
    "\n",
    "\n",
    "\n",
    "\n",
    "*Have questions or comments? Visit the [course discussion forum](https://www.kaggle.com/learn/data-cleaning/discussion) to chat with other learners.*"
   ]
  }
 ],
 "metadata": {
  "kernelspec": {
   "display_name": "Python 3",
   "language": "python",
   "name": "python3"
  },
  "language_info": {
   "codemirror_mode": {
    "name": "ipython",
    "version": 3
   },
   "file_extension": ".py",
   "mimetype": "text/x-python",
   "name": "python",
   "nbconvert_exporter": "python",
   "pygments_lexer": "ipython3",
   "version": "3.7.12"
  },
  "papermill": {
   "default_parameters": {},
   "duration": 26.452024,
   "end_time": "2021-12-14T04:03:26.847159",
   "environment_variables": {},
   "exception": null,
   "input_path": "__notebook__.ipynb",
   "output_path": "__notebook__.ipynb",
   "parameters": {},
   "start_time": "2021-12-14T04:03:00.395135",
   "version": "2.3.3"
  }
 },
 "nbformat": 4,
 "nbformat_minor": 5
}
