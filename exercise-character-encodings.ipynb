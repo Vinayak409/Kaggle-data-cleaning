{
 "cells": [
  {
   "cell_type": "markdown",
   "id": "eb2403b1",
   "metadata": {
    "papermill": {
     "duration": 0.018531,
     "end_time": "2021-12-14T04:16:36.496814",
     "exception": false,
     "start_time": "2021-12-14T04:16:36.478283",
     "status": "completed"
    },
    "tags": []
   },
   "source": [
    "**This notebook is an exercise in the [Data Cleaning](https://www.kaggle.com/learn/data-cleaning) course.  You can reference the tutorial at [this link](https://www.kaggle.com/alexisbcook/character-encodings).**\n",
    "\n",
    "---\n"
   ]
  },
  {
   "cell_type": "markdown",
   "id": "99e410da",
   "metadata": {
    "papermill": {
     "duration": 0.012455,
     "end_time": "2021-12-14T04:16:36.525236",
     "exception": false,
     "start_time": "2021-12-14T04:16:36.512781",
     "status": "completed"
    },
    "tags": []
   },
   "source": [
    "In this exercise, you'll apply what you learned in the **Character encodings** tutorial.\n",
    "\n",
    "# Setup\n",
    "\n",
    "The questions below will give you feedback on your work. Run the following cell to set up the feedback system."
   ]
  },
  {
   "cell_type": "code",
   "execution_count": 1,
   "id": "51c92643",
   "metadata": {
    "execution": {
     "iopub.execute_input": "2021-12-14T04:16:36.558523Z",
     "iopub.status.busy": "2021-12-14T04:16:36.557299Z",
     "iopub.status.idle": "2021-12-14T04:16:36.657596Z",
     "shell.execute_reply": "2021-12-14T04:16:36.656801Z",
     "shell.execute_reply.started": "2021-12-13T20:42:37.134087Z"
    },
    "papermill": {
     "duration": 0.116888,
     "end_time": "2021-12-14T04:16:36.657760",
     "exception": false,
     "start_time": "2021-12-14T04:16:36.540872",
     "status": "completed"
    },
    "tags": []
   },
   "outputs": [
    {
     "name": "stdout",
     "output_type": "stream",
     "text": [
      "Setup Complete\n"
     ]
    }
   ],
   "source": [
    "from learntools.core import binder\n",
    "binder.bind(globals())\n",
    "from learntools.data_cleaning.ex4 import *\n",
    "print(\"Setup Complete\")"
   ]
  },
  {
   "cell_type": "markdown",
   "id": "0dbfd65f",
   "metadata": {
    "papermill": {
     "duration": 0.010709,
     "end_time": "2021-12-14T04:16:36.679718",
     "exception": false,
     "start_time": "2021-12-14T04:16:36.669009",
     "status": "completed"
    },
    "tags": []
   },
   "source": [
    "# Get our environment set up\n",
    "\n",
    "The first thing we'll need to do is load in the libraries we'll be using."
   ]
  },
  {
   "cell_type": "code",
   "execution_count": 2,
   "id": "eb598d8f",
   "metadata": {
    "execution": {
     "iopub.execute_input": "2021-12-14T04:16:36.708468Z",
     "iopub.status.busy": "2021-12-14T04:16:36.707488Z",
     "iopub.status.idle": "2021-12-14T04:16:36.709541Z",
     "shell.execute_reply": "2021-12-14T04:16:36.709943Z",
     "shell.execute_reply.started": "2021-12-13T20:42:37.351857Z"
    },
    "papermill": {
     "duration": 0.019188,
     "end_time": "2021-12-14T04:16:36.710127",
     "exception": false,
     "start_time": "2021-12-14T04:16:36.690939",
     "status": "completed"
    },
    "tags": []
   },
   "outputs": [],
   "source": [
    "# modules we'll use\n",
    "import pandas as pd\n",
    "import numpy as np\n",
    "\n",
    "# helpful character encoding module\n",
    "import chardet\n",
    "\n",
    "# set seed for reproducibility\n",
    "np.random.seed(0)"
   ]
  },
  {
   "cell_type": "markdown",
   "id": "9728b6ae",
   "metadata": {
    "papermill": {
     "duration": 0.011036,
     "end_time": "2021-12-14T04:16:36.732350",
     "exception": false,
     "start_time": "2021-12-14T04:16:36.721314",
     "status": "completed"
    },
    "tags": []
   },
   "source": [
    "# 1) What are encodings?\n",
    "\n",
    "You're working with a dataset composed of bytes.  Run the code cell below to print a sample entry."
   ]
  },
  {
   "cell_type": "code",
   "execution_count": 3,
   "id": "e50dc9e0",
   "metadata": {
    "execution": {
     "iopub.execute_input": "2021-12-14T04:16:36.758810Z",
     "iopub.status.busy": "2021-12-14T04:16:36.757837Z",
     "iopub.status.idle": "2021-12-14T04:16:36.762812Z",
     "shell.execute_reply": "2021-12-14T04:16:36.763293Z",
     "shell.execute_reply.started": "2021-12-13T20:42:38.438661Z"
    },
    "papermill": {
     "duration": 0.019862,
     "end_time": "2021-12-14T04:16:36.763460",
     "exception": false,
     "start_time": "2021-12-14T04:16:36.743598",
     "status": "completed"
    },
    "tags": []
   },
   "outputs": [
    {
     "name": "stdout",
     "output_type": "stream",
     "text": [
      "b'\\xa7A\\xa6n'\n",
      "data type: <class 'bytes'>\n"
     ]
    }
   ],
   "source": [
    "sample_entry = b'\\xa7A\\xa6n'\n",
    "print(sample_entry)\n",
    "print('data type:', type(sample_entry))"
   ]
  },
  {
   "cell_type": "markdown",
   "id": "e408e3ad",
   "metadata": {
    "papermill": {
     "duration": 0.012407,
     "end_time": "2021-12-14T04:16:36.787132",
     "exception": false,
     "start_time": "2021-12-14T04:16:36.774725",
     "status": "completed"
    },
    "tags": []
   },
   "source": [
    "You notice that it doesn't use the standard UTF-8 encoding. \n",
    "\n",
    "Use the next code cell to create a variable `new_entry` that changes the encoding from `\"big5-tw\"` to `\"utf-8\"`.  `new_entry` should have the bytes datatype."
   ]
  },
  {
   "cell_type": "code",
   "execution_count": 4,
   "id": "189fa514",
   "metadata": {
    "execution": {
     "iopub.execute_input": "2021-12-14T04:16:36.817277Z",
     "iopub.status.busy": "2021-12-14T04:16:36.812741Z",
     "iopub.status.idle": "2021-12-14T04:16:36.821230Z",
     "shell.execute_reply": "2021-12-14T04:16:36.821699Z",
     "shell.execute_reply.started": "2021-12-13T20:44:00.038513Z"
    },
    "papermill": {
     "duration": 0.023067,
     "end_time": "2021-12-14T04:16:36.821867",
     "exception": false,
     "start_time": "2021-12-14T04:16:36.798800",
     "status": "completed"
    },
    "tags": []
   },
   "outputs": [
    {
     "data": {
      "application/javascript": [
       "parent.postMessage({\"jupyterEvent\": \"custom.exercise_interaction\", \"data\": {\"outcomeType\": 1, \"valueTowardsCompletion\": 0.3333333333333333, \"interactionType\": 1, \"questionType\": 1, \"questionId\": \"1_EncodingsIntro\", \"learnToolsVersion\": \"0.3.4\", \"failureMessage\": \"\", \"exceptionClass\": \"\", \"trace\": \"\"}}, \"*\")"
      ],
      "text/plain": [
       "<IPython.core.display.Javascript object>"
      ]
     },
     "metadata": {},
     "output_type": "display_data"
    },
    {
     "data": {
      "text/markdown": [
       "<span style=\"color:#33cc33\">Correct</span>"
      ],
      "text/plain": [
       "Correct"
      ]
     },
     "metadata": {},
     "output_type": "display_data"
    }
   ],
   "source": [
    "before = sample_entry.decode('big5-tw')\n",
    "new_entry = before.encode()\n",
    "\n",
    "# Check your answer\n",
    "q1.check()"
   ]
  },
  {
   "cell_type": "code",
   "execution_count": 5,
   "id": "ae76af2e",
   "metadata": {
    "execution": {
     "iopub.execute_input": "2021-12-14T04:16:36.849302Z",
     "iopub.status.busy": "2021-12-14T04:16:36.848384Z",
     "iopub.status.idle": "2021-12-14T04:16:36.859001Z",
     "shell.execute_reply": "2021-12-14T04:16:36.859574Z",
     "shell.execute_reply.started": "2021-12-13T20:43:11.16828Z"
    },
    "papermill": {
     "duration": 0.026018,
     "end_time": "2021-12-14T04:16:36.859740",
     "exception": false,
     "start_time": "2021-12-14T04:16:36.833722",
     "status": "completed"
    },
    "tags": []
   },
   "outputs": [
    {
     "data": {
      "application/javascript": [
       "parent.postMessage({\"jupyterEvent\": \"custom.exercise_interaction\", \"data\": {\"interactionType\": 2, \"questionType\": 1, \"questionId\": \"1_EncodingsIntro\", \"learnToolsVersion\": \"0.3.4\", \"valueTowardsCompletion\": 0.0, \"failureMessage\": \"\", \"exceptionClass\": \"\", \"trace\": \"\", \"outcomeType\": 4}}, \"*\")"
      ],
      "text/plain": [
       "<IPython.core.display.Javascript object>"
      ]
     },
     "metadata": {},
     "output_type": "display_data"
    },
    {
     "data": {
      "text/markdown": [
       "<span style=\"color:#3366cc\">Hint:</span> Try using `.decode()` to get the string, then `.encode()` to get the bytes representation, encoded in UTF-8."
      ],
      "text/plain": [
       "Hint: Try using `.decode()` to get the string, then `.encode()` to get the bytes representation, encoded in UTF-8."
      ]
     },
     "metadata": {},
     "output_type": "display_data"
    },
    {
     "data": {
      "application/javascript": [
       "parent.postMessage({\"jupyterEvent\": \"custom.exercise_interaction\", \"data\": {\"interactionType\": 3, \"questionType\": 1, \"questionId\": \"1_EncodingsIntro\", \"learnToolsVersion\": \"0.3.4\", \"valueTowardsCompletion\": 0.0, \"failureMessage\": \"\", \"exceptionClass\": \"\", \"trace\": \"\", \"outcomeType\": 4}}, \"*\")"
      ],
      "text/plain": [
       "<IPython.core.display.Javascript object>"
      ]
     },
     "metadata": {},
     "output_type": "display_data"
    },
    {
     "data": {
      "text/markdown": [
       "<span style=\"color:#33cc99\">Solution:</span> \n",
       "```python\n",
       "before = sample_entry.decode(\"big5-tw\")\n",
       "new_entry = before.encode()\n",
       "\n",
       "```"
      ],
      "text/plain": [
       "Solution: \n",
       "```python\n",
       "before = sample_entry.decode(\"big5-tw\")\n",
       "new_entry = before.encode()\n",
       "\n",
       "```"
      ]
     },
     "metadata": {},
     "output_type": "display_data"
    }
   ],
   "source": [
    "# Lines below will give you a hint or solution code\n",
    "q1.hint()\n",
    "q1.solution()"
   ]
  },
  {
   "cell_type": "markdown",
   "id": "d3968661",
   "metadata": {
    "papermill": {
     "duration": 0.012979,
     "end_time": "2021-12-14T04:16:36.886006",
     "exception": false,
     "start_time": "2021-12-14T04:16:36.873027",
     "status": "completed"
    },
    "tags": []
   },
   "source": [
    "# 2) Reading in files with encoding problems\n",
    "\n",
    "Use the code cell below to read in this file at path `\"../input/fatal-police-shootings-in-the-us/PoliceKillingsUS.csv\"`.  \n",
    "\n",
    "Figure out what the correct encoding should be and read in the file to a DataFrame `police_killings`."
   ]
  },
  {
   "cell_type": "code",
   "execution_count": 6,
   "id": "2dc9e6c8",
   "metadata": {
    "execution": {
     "iopub.execute_input": "2021-12-14T04:16:36.916903Z",
     "iopub.status.busy": "2021-12-14T04:16:36.915986Z",
     "iopub.status.idle": "2021-12-14T04:16:36.939277Z",
     "shell.execute_reply": "2021-12-14T04:16:36.939716Z",
     "shell.execute_reply.started": "2021-12-13T20:45:28.719698Z"
    },
    "papermill": {
     "duration": 0.040754,
     "end_time": "2021-12-14T04:16:36.939903",
     "exception": false,
     "start_time": "2021-12-14T04:16:36.899149",
     "status": "completed"
    },
    "tags": []
   },
   "outputs": [
    {
     "data": {
      "application/javascript": [
       "parent.postMessage({\"jupyterEvent\": \"custom.exercise_interaction\", \"data\": {\"outcomeType\": 1, \"valueTowardsCompletion\": 0.3333333333333333, \"interactionType\": 1, \"questionType\": 1, \"questionId\": \"2_ReadIn\", \"learnToolsVersion\": \"0.3.4\", \"failureMessage\": \"\", \"exceptionClass\": \"\", \"trace\": \"\"}}, \"*\")"
      ],
      "text/plain": [
       "<IPython.core.display.Javascript object>"
      ]
     },
     "metadata": {},
     "output_type": "display_data"
    },
    {
     "data": {
      "text/markdown": [
       "<span style=\"color:#33cc33\">Correct</span>"
      ],
      "text/plain": [
       "Correct"
      ]
     },
     "metadata": {},
     "output_type": "display_data"
    }
   ],
   "source": [
    "# TODO: Load in the DataFrame correctly.\n",
    "police_killings = pd.read_csv(\"../input/fatal-police-shootings-in-the-us/PoliceKillingsUS.csv\", encoding='Windows-1252')\n",
    "\n",
    "# Check your answer\n",
    "q2.check()"
   ]
  },
  {
   "cell_type": "markdown",
   "id": "1463695d",
   "metadata": {
    "papermill": {
     "duration": 0.013765,
     "end_time": "2021-12-14T04:16:36.967858",
     "exception": false,
     "start_time": "2021-12-14T04:16:36.954093",
     "status": "completed"
    },
    "tags": []
   },
   "source": [
    "Feel free to use any additional code cells for supplemental work.  To get credit for finishing this question, you'll need to run `q2.check()` and get a result of **Correct**."
   ]
  },
  {
   "cell_type": "code",
   "execution_count": 7,
   "id": "c39cf0c8",
   "metadata": {
    "execution": {
     "iopub.execute_input": "2021-12-14T04:16:37.000006Z",
     "iopub.status.busy": "2021-12-14T04:16:36.999045Z",
     "iopub.status.idle": "2021-12-14T04:16:37.002826Z",
     "shell.execute_reply": "2021-12-14T04:16:37.003352Z"
    },
    "papermill": {
     "duration": 0.021266,
     "end_time": "2021-12-14T04:16:37.003518",
     "exception": false,
     "start_time": "2021-12-14T04:16:36.982252",
     "status": "completed"
    },
    "tags": []
   },
   "outputs": [],
   "source": [
    "# (Optional) Use this code cell for any additional work."
   ]
  },
  {
   "cell_type": "code",
   "execution_count": 8,
   "id": "f385647c",
   "metadata": {
    "execution": {
     "iopub.execute_input": "2021-12-14T04:16:37.037787Z",
     "iopub.status.busy": "2021-12-14T04:16:37.037117Z",
     "iopub.status.idle": "2021-12-14T04:16:37.042728Z",
     "shell.execute_reply": "2021-12-14T04:16:37.043320Z",
     "shell.execute_reply.started": "2021-12-13T20:44:44.588198Z"
    },
    "papermill": {
     "duration": 0.02474,
     "end_time": "2021-12-14T04:16:37.043509",
     "exception": false,
     "start_time": "2021-12-14T04:16:37.018769",
     "status": "completed"
    },
    "tags": []
   },
   "outputs": [
    {
     "data": {
      "application/javascript": [
       "parent.postMessage({\"jupyterEvent\": \"custom.exercise_interaction\", \"data\": {\"interactionType\": 2, \"questionType\": 1, \"questionId\": \"2_ReadIn\", \"learnToolsVersion\": \"0.3.4\", \"valueTowardsCompletion\": 0.0, \"failureMessage\": \"\", \"exceptionClass\": \"\", \"trace\": \"\", \"outcomeType\": 4}}, \"*\")"
      ],
      "text/plain": [
       "<IPython.core.display.Javascript object>"
      ]
     },
     "metadata": {},
     "output_type": "display_data"
    },
    {
     "data": {
      "text/markdown": [
       "<span style=\"color:#3366cc\">Hint:</span> If you try to guess the encoding with the first 10,000 bytes of the file, it might give you the wrong answer.  Try using 100,000 or more lines of the file."
      ],
      "text/plain": [
       "Hint: If you try to guess the encoding with the first 10,000 bytes of the file, it might give you the wrong answer.  Try using 100,000 or more lines of the file."
      ]
     },
     "metadata": {},
     "output_type": "display_data"
    },
    {
     "data": {
      "application/javascript": [
       "parent.postMessage({\"jupyterEvent\": \"custom.exercise_interaction\", \"data\": {\"interactionType\": 3, \"questionType\": 1, \"questionId\": \"2_ReadIn\", \"learnToolsVersion\": \"0.3.4\", \"valueTowardsCompletion\": 0.0, \"failureMessage\": \"\", \"exceptionClass\": \"\", \"trace\": \"\", \"outcomeType\": 4}}, \"*\")"
      ],
      "text/plain": [
       "<IPython.core.display.Javascript object>"
      ]
     },
     "metadata": {},
     "output_type": "display_data"
    },
    {
     "data": {
      "text/markdown": [
       "<span style=\"color:#33cc99\">Solution:</span> \n",
       "```python\n",
       "police_killings = pd.read_csv(\"../input/fatal-police-shootings-in-the-us/PoliceKillingsUS.csv\", encoding='Windows-1252')\n",
       "\n",
       "```"
      ],
      "text/plain": [
       "Solution: \n",
       "```python\n",
       "police_killings = pd.read_csv(\"../input/fatal-police-shootings-in-the-us/PoliceKillingsUS.csv\", encoding='Windows-1252')\n",
       "\n",
       "```"
      ]
     },
     "metadata": {},
     "output_type": "display_data"
    }
   ],
   "source": [
    "# Lines below will give you a hint or solution code\n",
    "q2.hint()\n",
    "q2.solution()"
   ]
  },
  {
   "cell_type": "markdown",
   "id": "bb32459c",
   "metadata": {
    "papermill": {
     "duration": 0.015976,
     "end_time": "2021-12-14T04:16:37.075552",
     "exception": false,
     "start_time": "2021-12-14T04:16:37.059576",
     "status": "completed"
    },
    "tags": []
   },
   "source": [
    "# 3) Saving your files with UTF-8 encoding\n",
    "\n",
    "Save a version of the police killings dataset to CSV with UTF-8 encoding.  Your answer will be marked correct after saving this file.  \n",
    "\n",
    "Note: When using the `to_csv()` method, supply only the name of the file (e.g., `\"my_file.csv\"`).  This saves the file at the filepath `\"/kaggle/working/my_file.csv\"`."
   ]
  },
  {
   "cell_type": "code",
   "execution_count": 9,
   "id": "5f87b01a",
   "metadata": {
    "execution": {
     "iopub.execute_input": "2021-12-14T04:16:37.112300Z",
     "iopub.status.busy": "2021-12-14T04:16:37.111687Z",
     "iopub.status.idle": "2021-12-14T04:16:37.140346Z",
     "shell.execute_reply": "2021-12-14T04:16:37.140829Z",
     "shell.execute_reply.started": "2021-12-13T20:47:06.734803Z"
    },
    "papermill": {
     "duration": 0.049833,
     "end_time": "2021-12-14T04:16:37.141004",
     "exception": false,
     "start_time": "2021-12-14T04:16:37.091171",
     "status": "completed"
    },
    "tags": []
   },
   "outputs": [
    {
     "data": {
      "application/javascript": [
       "parent.postMessage({\"jupyterEvent\": \"custom.exercise_interaction\", \"data\": {\"outcomeType\": 1, \"valueTowardsCompletion\": 0.3333333333333333, \"interactionType\": 1, \"questionType\": 2, \"questionId\": \"3_SaveCSV\", \"learnToolsVersion\": \"0.3.4\", \"failureMessage\": \"\", \"exceptionClass\": \"\", \"trace\": \"\"}}, \"*\")"
      ],
      "text/plain": [
       "<IPython.core.display.Javascript object>"
      ]
     },
     "metadata": {},
     "output_type": "display_data"
    },
    {
     "data": {
      "text/markdown": [
       "<span style=\"color:#33cc33\">Correct</span>"
      ],
      "text/plain": [
       "Correct"
      ]
     },
     "metadata": {},
     "output_type": "display_data"
    }
   ],
   "source": [
    "# TODO: Save the police killings dataset to CSV\n",
    "police_killings.to_csv('my_file.csv')\n",
    "\n",
    "# Check your answer\n",
    "q3.check()"
   ]
  },
  {
   "cell_type": "code",
   "execution_count": 10,
   "id": "2af30303",
   "metadata": {
    "execution": {
     "iopub.execute_input": "2021-12-14T04:16:37.179991Z",
     "iopub.status.busy": "2021-12-14T04:16:37.179399Z",
     "iopub.status.idle": "2021-12-14T04:16:37.187464Z",
     "shell.execute_reply": "2021-12-14T04:16:37.188030Z",
     "shell.execute_reply.started": "2021-12-13T20:46:19.542776Z"
    },
    "papermill": {
     "duration": 0.030548,
     "end_time": "2021-12-14T04:16:37.188224",
     "exception": false,
     "start_time": "2021-12-14T04:16:37.157676",
     "status": "completed"
    },
    "tags": []
   },
   "outputs": [
    {
     "data": {
      "application/javascript": [
       "parent.postMessage({\"jupyterEvent\": \"custom.exercise_interaction\", \"data\": {\"interactionType\": 2, \"questionType\": 2, \"questionId\": \"3_SaveCSV\", \"learnToolsVersion\": \"0.3.4\", \"valueTowardsCompletion\": 0.0, \"failureMessage\": \"\", \"exceptionClass\": \"\", \"trace\": \"\", \"outcomeType\": 4}}, \"*\")"
      ],
      "text/plain": [
       "<IPython.core.display.Javascript object>"
      ]
     },
     "metadata": {},
     "output_type": "display_data"
    },
    {
     "data": {
      "text/markdown": [
       "<span style=\"color:#3366cc\">Hint:</span> Use `.to_csv().`"
      ],
      "text/plain": [
       "Hint: Use `.to_csv().`"
      ]
     },
     "metadata": {},
     "output_type": "display_data"
    },
    {
     "data": {
      "application/javascript": [
       "parent.postMessage({\"jupyterEvent\": \"custom.exercise_interaction\", \"data\": {\"interactionType\": 3, \"questionType\": 2, \"questionId\": \"3_SaveCSV\", \"learnToolsVersion\": \"0.3.4\", \"valueTowardsCompletion\": 0.0, \"failureMessage\": \"\", \"exceptionClass\": \"\", \"trace\": \"\", \"outcomeType\": 4}}, \"*\")"
      ],
      "text/plain": [
       "<IPython.core.display.Javascript object>"
      ]
     },
     "metadata": {},
     "output_type": "display_data"
    },
    {
     "data": {
      "text/markdown": [
       "<span style=\"color:#33cc99\">Solution:</span> \n",
       "```python\n",
       "\n",
       "police_killings.to_csv(\"my_file.csv\")\n",
       "\n",
       "```"
      ],
      "text/plain": [
       "Solution: \n",
       "```python\n",
       "\n",
       "police_killings.to_csv(\"my_file.csv\")\n",
       "\n",
       "```"
      ]
     },
     "metadata": {},
     "output_type": "display_data"
    }
   ],
   "source": [
    "# Lines below will give you a hint or solution code\n",
    "q3.hint()\n",
    "q3.solution()"
   ]
  },
  {
   "cell_type": "markdown",
   "id": "4416d1dd",
   "metadata": {
    "papermill": {
     "duration": 0.018623,
     "end_time": "2021-12-14T04:16:37.224742",
     "exception": false,
     "start_time": "2021-12-14T04:16:37.206119",
     "status": "completed"
    },
    "tags": []
   },
   "source": [
    "# (Optional) More practice\n",
    "\n",
    "Check out [this dataset of files in different character encodings](https://www.kaggle.com/rtatman/character-encoding-examples). Can you read in all the files with their original encodings and them save them out as UTF-8 files?\n",
    "\n",
    "If you have a file that's in UTF-8 but has just a couple of weird-looking characters in it, you can try out the [ftfy module](https://ftfy.readthedocs.io/en/latest/#) and see if it helps. \n",
    "\n",
    "# Keep going\n",
    "\n",
    "In the final lesson, learn how to [**clean up inconsistent text entries**](https://www.kaggle.com/alexisbcook/inconsistent-data-entry) in your dataset."
   ]
  },
  {
   "cell_type": "markdown",
   "id": "291c37b8",
   "metadata": {
    "papermill": {
     "duration": 0.017762,
     "end_time": "2021-12-14T04:16:37.261383",
     "exception": false,
     "start_time": "2021-12-14T04:16:37.243621",
     "status": "completed"
    },
    "tags": []
   },
   "source": [
    "---\n",
    "\n",
    "\n",
    "\n",
    "\n",
    "*Have questions or comments? Visit the [course discussion forum](https://www.kaggle.com/learn/data-cleaning/discussion) to chat with other learners.*"
   ]
  }
 ],
 "metadata": {
  "kernelspec": {
   "display_name": "Python 3",
   "language": "python",
   "name": "python3"
  },
  "language_info": {
   "codemirror_mode": {
    "name": "ipython",
    "version": 3
   },
   "file_extension": ".py",
   "mimetype": "text/x-python",
   "name": "python",
   "nbconvert_exporter": "python",
   "pygments_lexer": "ipython3",
   "version": "3.7.12"
  },
  "papermill": {
   "default_parameters": {},
   "duration": 10.405653,
   "end_time": "2021-12-14T04:16:37.889386",
   "environment_variables": {},
   "exception": null,
   "input_path": "__notebook__.ipynb",
   "output_path": "__notebook__.ipynb",
   "parameters": {},
   "start_time": "2021-12-14T04:16:27.483733",
   "version": "2.3.3"
  }
 },
 "nbformat": 4,
 "nbformat_minor": 5
}
